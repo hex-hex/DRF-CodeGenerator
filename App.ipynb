{
 "cells": [
  {
   "cell_type": "code",
   "execution_count": 13,
   "metadata": {
    "scrolled": false
   },
   "outputs": [
    {
     "name": "stdout",
     "output_type": "stream",
     "text": [
      "class ProductClassFilter(FilterSet):\n",
      "    original_tag = RelatedFilter(ProductTagFilter, name='original_tag', queryset=ProductTag.objects.all())\n",
      "    extension_tag = RelatedFilter(ProductTagFilter, name='extension_tag', queryset=ProductTag.objects.all())\n",
      "    date_create = DateFromToRangeFilter()\n",
      "    date_update = DateFromToRangeFilter()\n",
      "    class Meta:\n",
      "        model = ProductClass\n",
      "        fields = { \n",
      "            'guaranty_period': ['exact', 'in', 'startswith', 'contains'], \n",
      "        }\n",
      "\n",
      "\n",
      "\n",
      "class ProductClassSerializer(WritableNestedModelSerializer):\n",
      "    original_tag = ProductTagSerializer()\n",
      "    extension_tag = ProductTagSerializer(many=True)\n",
      "    user_create = HiddenField(default=CreateOnlyDefault(CurrentUserDefault()))\n",
      "    user_update = HiddenField(default=CurrentUserDefault())\n",
      "    class Meta:\n",
      "        model = ProductClass\n",
      "        read_only_fields = ('pk', 'date_create', 'date_update', 'user_create', 'user_update')\n",
      "        fields = ('pk', 'guaranty_period', 'original_tag', 'extension_tag', \n",
      "            'date_create', 'date_update',)\n",
      "\n",
      "\n",
      "\n",
      "class ProductClassModelViewSet(ModelViewSet):\n",
      "    queryset = ProductClass.objects.all()\n",
      "    permission_classes = [permissions.IsAuthenticated]\n",
      "    filter_class = ProductClassFilter\n",
      "    serializer_class = ProductClassSerializer\n",
      "    filter_backends = (DjangoFilterBackend, SearchFilter, OrderingFilter,)\n",
      "    search_fields = ('@guaranty_period', '$guaranty_period', )\n",
      "    ordering_fields = '__all__'\n"
     ]
    },
    {
     "data": {
      "text/plain": [
       "<Structrues.EntityCode at 0x7fb51c064a90>"
      ]
     },
     "execution_count": 13,
     "metadata": {},
     "output_type": "execute_result"
    }
   ],
   "source": [
    "from Structrues import EntityCode\n",
    "code = \"\"\"\n",
    "class ProductClass(EntityBase):\n",
    "    original_tag = models.ForeignKey('ProductTag')\n",
    "    extension_tag = models.ManyToManyField('ProductTag', related_name='extension_tag', blank=True)\n",
    "    guaranty_period = models.DateField(null=True, blank=True)\n",
    "\n",
    "    def __str__(self):\n",
    "        return str(self.original_tag)\n",
    "\"\"\"\n",
    "EntityCode(code)"
   ]
  },
  {
   "cell_type": "code",
   "execution_count": null,
   "metadata": {},
   "outputs": [],
   "source": []
  }
 ],
 "metadata": {
  "kernelspec": {
   "display_name": "Python 3",
   "language": "python",
   "name": "python3"
  },
  "language_info": {
   "codemirror_mode": {
    "name": "ipython",
    "version": 3
   },
   "file_extension": ".py",
   "mimetype": "text/x-python",
   "name": "python",
   "nbconvert_exporter": "python",
   "pygments_lexer": "ipython3",
   "version": "3.5.2"
  }
 },
 "nbformat": 4,
 "nbformat_minor": 2
}
